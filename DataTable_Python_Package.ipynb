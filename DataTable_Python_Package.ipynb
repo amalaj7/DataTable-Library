{
  "nbformat": 4,
  "nbformat_minor": 0,
  "metadata": {
    "colab": {
      "name": "DataTable Python Package.ipynb",
      "provenance": []
    },
    "kernelspec": {
      "name": "python3",
      "display_name": "Python 3"
    },
    "language_info": {
      "name": "python"
    }
  },
  "cells": [
    {
      "cell_type": "code",
      "execution_count": null,
      "metadata": {
        "colab": {
          "base_uri": "https://localhost:8080/"
        },
        "id": "IgjwkZuyu8pd",
        "outputId": "d15a5a7c-974f-4b39-da7b-e3a4ea88e6e9"
      },
      "outputs": [
        {
          "output_type": "stream",
          "name": "stdout",
          "text": [
            "Looking in indexes: https://pypi.org/simple, https://us-python.pkg.dev/colab-wheels/public/simple/\n",
            "Collecting datatable\n",
            "  Downloading datatable-1.0.0-cp37-cp37m-manylinux_2_12_x86_64.whl (96.9 MB)\n",
            "\u001b[K     |████████████████████████████████| 96.9 MB 100 kB/s \n",
            "\u001b[?25hInstalling collected packages: datatable\n",
            "Successfully installed datatable-1.0.0\n"
          ]
        }
      ],
      "source": [
        "!pip install datatable"
      ]
    },
    {
      "cell_type": "code",
      "source": [
        "# function to find the time taken by a function\n",
        "\n",
        "import time\n",
        "\n",
        "def timeit(f):\n",
        "\n",
        "    def timed(*args, **kw):\n",
        "        ts = time.time()\n",
        "        result = f(*args, **kw)\n",
        "        te = time.time()\n",
        "\n",
        "        print('func:%r args:[%r, %r] took: %2.4f sec' % \\\n",
        "          (f.__name__, args, kw, te-ts))\n",
        "        return result\n",
        "\n",
        "    return timed"
      ],
      "metadata": {
        "id": "qbTYpVYRznqh"
      },
      "execution_count": 14,
      "outputs": []
    },
    {
      "cell_type": "code",
      "source": [
        "import pandas as pd\n",
        "\n",
        "@timeit\n",
        "def read_data_with_pandas(path):\n",
        "  pandas_df = pd.read_csv(path)\n",
        "  return pandas_df \n",
        "\n",
        "pandas_df = read_data_with_pandas(\"/content/drive/MyDrive/datatable/songs.csv\")"
      ],
      "metadata": {
        "colab": {
          "base_uri": "https://localhost:8080/"
        },
        "id": "yuv_1yYjysTj",
        "outputId": "dd11d1a0-5a51-4d92-dcec-111e78aa0113"
      },
      "execution_count": 15,
      "outputs": [
        {
          "output_type": "stream",
          "name": "stdout",
          "text": [
            "func:'read_data_with_pandas' args:[('/content/drive/MyDrive/datatable/songs.csv',), {}] took: 11.7101 sec\n"
          ]
        }
      ]
    },
    {
      "cell_type": "code",
      "source": [
        "import datatable as dt \n",
        "\n",
        "@timeit\n",
        "def read_data_with_datatable(path):\n",
        "  datatable_df = dt.fread(path)\n",
        "  return datatable_df \n",
        "\n",
        "datatable_df = read_data_with_datatable(\"/content/drive/MyDrive/datatable/songs.csv\")"
      ],
      "metadata": {
        "colab": {
          "base_uri": "https://localhost:8080/"
        },
        "id": "p_7vq03NvEFt",
        "outputId": "57a579ae-8266-4731-c998-973f54dd49ba"
      },
      "execution_count": 16,
      "outputs": [
        {
          "output_type": "stream",
          "name": "stdout",
          "text": [
            "func:'read_data_with_datatable' args:[('/content/drive/MyDrive/datatable/songs.csv',), {}] took: 2.4265 sec\n"
          ]
        }
      ]
    },
    {
      "cell_type": "code",
      "source": [
        "datatable_df.head()"
      ],
      "metadata": {
        "colab": {
          "base_uri": "https://localhost:8080/",
          "height": 290
        },
        "id": "lPjo0-sgHuZo",
        "outputId": "179e643a-4a7a-4e52-f4de-7c6b42e93e41"
      },
      "execution_count": 26,
      "outputs": [
        {
          "output_type": "execute_result",
          "data": {
            "text/plain": [
              "<Frame#7f8816c7a090 10x91>"
            ],
            "text/html": [
              "<div class='datatable'>\n",
              "  <table class='frame'>\n",
              "  <thead>\n",
              "    <tr class='colnames'><td class='row_index'></td><th>year</th><th>timbre_avg_0</th><th>timbre_avg_1</th><th>timbre_avg_2</th><th>timbre_avg_3</th><th>timbre_avg_4</th><th>timbre_avg_5</th><th>timbre_avg_6</th><th>timbre_avg_7</th><th>timbre_avg_8</th><th class='vellipsis'>&hellip;</th><th>timbre_cov_73</th><th>timbre_cov_74</th><th>timbre_cov_75</th><th>timbre_cov_76</th><th>timbre_cov_77</th></tr>\n",
              "    <tr class='coltypes'><td class='row_index'></td><td class='int' title='int32'>&#x25AA;&#x25AA;&#x25AA;&#x25AA;</td><td class='float' title='float64'>&#x25AA;&#x25AA;&#x25AA;&#x25AA;&#x25AA;&#x25AA;&#x25AA;&#x25AA;</td><td class='float' title='float64'>&#x25AA;&#x25AA;&#x25AA;&#x25AA;&#x25AA;&#x25AA;&#x25AA;&#x25AA;</td><td class='float' title='float64'>&#x25AA;&#x25AA;&#x25AA;&#x25AA;&#x25AA;&#x25AA;&#x25AA;&#x25AA;</td><td class='float' title='float64'>&#x25AA;&#x25AA;&#x25AA;&#x25AA;&#x25AA;&#x25AA;&#x25AA;&#x25AA;</td><td class='float' title='float64'>&#x25AA;&#x25AA;&#x25AA;&#x25AA;&#x25AA;&#x25AA;&#x25AA;&#x25AA;</td><td class='float' title='float64'>&#x25AA;&#x25AA;&#x25AA;&#x25AA;&#x25AA;&#x25AA;&#x25AA;&#x25AA;</td><td class='float' title='float64'>&#x25AA;&#x25AA;&#x25AA;&#x25AA;&#x25AA;&#x25AA;&#x25AA;&#x25AA;</td><td class='float' title='float64'>&#x25AA;&#x25AA;&#x25AA;&#x25AA;&#x25AA;&#x25AA;&#x25AA;&#x25AA;</td><td class='float' title='float64'>&#x25AA;&#x25AA;&#x25AA;&#x25AA;&#x25AA;&#x25AA;&#x25AA;&#x25AA;</td><td></td><td class='float' title='float64'>&#x25AA;&#x25AA;&#x25AA;&#x25AA;&#x25AA;&#x25AA;&#x25AA;&#x25AA;</td><td class='float' title='float64'>&#x25AA;&#x25AA;&#x25AA;&#x25AA;&#x25AA;&#x25AA;&#x25AA;&#x25AA;</td><td class='float' title='float64'>&#x25AA;&#x25AA;&#x25AA;&#x25AA;&#x25AA;&#x25AA;&#x25AA;&#x25AA;</td><td class='float' title='float64'>&#x25AA;&#x25AA;&#x25AA;&#x25AA;&#x25AA;&#x25AA;&#x25AA;&#x25AA;</td><td class='float' title='float64'>&#x25AA;&#x25AA;&#x25AA;&#x25AA;&#x25AA;&#x25AA;&#x25AA;&#x25AA;</td></tr>\n",
              "  </thead>\n",
              "  <tbody>\n",
              "    <tr><td class='row_index'>0</td><td>2001</td><td>49.9436</td><td>21.4711</td><td>73.0775</td><td>8.74861</td><td>&minus;17.4063</td><td>&minus;13.0991</td><td>&minus;25.012</td><td>&minus;12.2326</td><td>7.83089</td><td class=vellipsis>&hellip;</td><td>&minus;23.0879</td><td>68.4079</td><td>&minus;1.82223</td><td>&minus;27.4635</td><td>2.26327</td></tr>\n",
              "    <tr><td class='row_index'>1</td><td>2001</td><td>48.7321</td><td>18.4293</td><td>70.3268</td><td>12.9464</td><td>&minus;10.3244</td><td>&minus;24.8378</td><td>8.7663</td><td>&minus;0.92019</td><td>18.7655</td><td class=vellipsis>&hellip;</td><td>&minus;32.2279</td><td>70.4939</td><td>12.0494</td><td>58.4345</td><td>26.9206</td></tr>\n",
              "    <tr><td class='row_index'>2</td><td>2001</td><td>50.9571</td><td>31.856</td><td>55.8185</td><td>13.4169</td><td>&minus;6.57898</td><td>&minus;18.5494</td><td>&minus;3.27872</td><td>&minus;2.35035</td><td>16.0702</td><td class=vellipsis>&hellip;</td><td>43.2013</td><td>&minus;115.007</td><td>&minus;0.05859</td><td>39.6707</td><td>&minus;0.66345</td></tr>\n",
              "    <tr><td class='row_index'>3</td><td>2001</td><td>48.2475</td><td>&minus;1.89837</td><td>36.2977</td><td>2.58776</td><td>0.9717</td><td>&minus;26.2168</td><td>5.05097</td><td>&minus;10.3412</td><td>3.55005</td><td class=vellipsis>&hellip;</td><td>82.5806</td><td>&minus;72.0899</td><td>9.90558</td><td>199.63</td><td>18.8538</td></tr>\n",
              "    <tr><td class='row_index'>4</td><td>2001</td><td>50.9702</td><td>42.21</td><td>67.0996</td><td>8.46791</td><td>&minus;15.8528</td><td>&minus;16.8141</td><td>&minus;12.4821</td><td>&minus;9.37636</td><td>12.637</td><td class=vellipsis>&hellip;</td><td>&minus;7.50035</td><td>51.7663</td><td>7.88713</td><td>55.6693</td><td>28.749</td></tr>\n",
              "    <tr><td class='row_index'>5</td><td>2001</td><td>50.5477</td><td>0.31568</td><td>92.3507</td><td>22.387</td><td>&minus;25.5187</td><td>&minus;19.0493</td><td>20.6734</td><td>&minus;5.19943</td><td>3.63566</td><td class=vellipsis>&hellip;</td><td>6.09352</td><td>35.1838</td><td>5.00283</td><td>&minus;11.0226</td><td>0.02263</td></tr>\n",
              "    <tr><td class='row_index'>6</td><td>2001</td><td>50.5755</td><td>33.1784</td><td>50.5352</td><td>11.5522</td><td>&minus;27.2476</td><td>&minus;8.78206</td><td>&minus;12.0428</td><td>&minus;9.5393</td><td>28.6181</td><td class=vellipsis>&hellip;</td><td>35.4625</td><td>11.5774</td><td>4.50056</td><td>&minus;4.62739</td><td>1.40192</td></tr>\n",
              "    <tr><td class='row_index'>7</td><td>2001</td><td>48.2689</td><td>8.97526</td><td>75.2316</td><td>24.0495</td><td>&minus;16.021</td><td>&minus;14.0949</td><td>8.11871</td><td>&minus;1.87566</td><td>7.46701</td><td class=vellipsis>&hellip;</td><td>56.3765</td><td>&minus;18.2997</td><td>&minus;0.30633</td><td>3.98364</td><td>&minus;3.72556</td></tr>\n",
              "    <tr><td class='row_index'>8</td><td>2001</td><td>49.7547</td><td>33.9958</td><td>56.7385</td><td>2.89581</td><td>&minus;2.92429</td><td>&minus;26.4441</td><td>1.71392</td><td>&minus;0.55644</td><td>22.0859</td><td class=vellipsis>&hellip;</td><td>&minus;15.6715</td><td>&minus;26.3626</td><td>5.48708</td><td>&minus;9.13495</td><td>6.0868</td></tr>\n",
              "    <tr><td class='row_index'>9</td><td>2007</td><td>45.1781</td><td>46.3423</td><td>&minus;40.6536</td><td>&minus;2.47909</td><td>1.21253</td><td>&minus;0.65302</td><td>&minus;6.95536</td><td>&minus;12.2004</td><td>17.0251</td><td class=vellipsis>&hellip;</td><td>3.26926</td><td>&minus;298.498</td><td>11.4933</td><td>&minus;89.218</td><td>&minus;15.0972</td></tr>\n",
              "  </tbody>\n",
              "  </table>\n",
              "  <div class='footer'>\n",
              "    <div class='frame_dimensions'>10 rows &times; 91 columns</div>\n",
              "  </div>\n",
              "</div>\n"
            ]
          },
          "metadata": {},
          "execution_count": 26
        }
      ]
    },
    {
      "cell_type": "code",
      "source": [
        "# operations that can be performed by a dataframe\n",
        "\n",
        "dir(datatable_df)"
      ],
      "metadata": {
        "colab": {
          "base_uri": "https://localhost:8080/"
        },
        "id": "5qtY-dHgGCVS",
        "outputId": "abe51bff-f100-4d83-b7eb-72b183c23cfd"
      },
      "execution_count": 20,
      "outputs": [
        {
          "output_type": "execute_result",
          "data": {
            "text/plain": [
              "['__class__',\n",
              " '__copy__',\n",
              " '__deepcopy__',\n",
              " '__delattr__',\n",
              " '__delitem__',\n",
              " '__dir__',\n",
              " '__doc__',\n",
              " '__eq__',\n",
              " '__format__',\n",
              " '__ge__',\n",
              " '__getattribute__',\n",
              " '__getitem__',\n",
              " '__getstate__',\n",
              " '__gt__',\n",
              " '__hash__',\n",
              " '__init__',\n",
              " '__init_subclass__',\n",
              " '__iter__',\n",
              " '__le__',\n",
              " '__len__',\n",
              " '__lt__',\n",
              " '__ne__',\n",
              " '__new__',\n",
              " '__reduce__',\n",
              " '__reduce_ex__',\n",
              " '__repr__',\n",
              " '__reversed__',\n",
              " '__setattr__',\n",
              " '__setitem__',\n",
              " '__setstate__',\n",
              " '__sizeof__',\n",
              " '__str__',\n",
              " '__subclasshook__',\n",
              " '_repr_html_',\n",
              " 'cbind',\n",
              " 'colindex',\n",
              " 'copy',\n",
              " 'countna',\n",
              " 'countna1',\n",
              " 'export_names',\n",
              " 'head',\n",
              " 'key',\n",
              " 'keys',\n",
              " 'kurt',\n",
              " 'kurt1',\n",
              " 'ltypes',\n",
              " 'materialize',\n",
              " 'max',\n",
              " 'max1',\n",
              " 'mean',\n",
              " 'mean1',\n",
              " 'meta',\n",
              " 'min',\n",
              " 'min1',\n",
              " 'mode',\n",
              " 'mode1',\n",
              " 'names',\n",
              " 'ncols',\n",
              " 'ndims',\n",
              " 'newsort',\n",
              " 'nmodal',\n",
              " 'nmodal1',\n",
              " 'nrows',\n",
              " 'nunique',\n",
              " 'nunique1',\n",
              " 'rbind',\n",
              " 'replace',\n",
              " 'sd',\n",
              " 'sd1',\n",
              " 'shape',\n",
              " 'skew',\n",
              " 'skew1',\n",
              " 'sort',\n",
              " 'source',\n",
              " 'stype',\n",
              " 'stypes',\n",
              " 'sum',\n",
              " 'sum1',\n",
              " 'tail',\n",
              " 'to_arrow',\n",
              " 'to_csv',\n",
              " 'to_dict',\n",
              " 'to_jay',\n",
              " 'to_list',\n",
              " 'to_numpy',\n",
              " 'to_pandas',\n",
              " 'to_tuples',\n",
              " 'type',\n",
              " 'types',\n",
              " 'view']"
            ]
          },
          "metadata": {},
          "execution_count": 20
        }
      ]
    },
    {
      "cell_type": "code",
      "source": [
        "# conversion to pandas df\n",
        "df = datatable_df.to_pandas()\n",
        "type(df)"
      ],
      "metadata": {
        "id": "9lKsT5zN0DvA",
        "colab": {
          "base_uri": "https://localhost:8080/"
        },
        "outputId": "c65b2a79-2bb1-4895-d0bd-4591f726da0a"
      },
      "execution_count": 18,
      "outputs": [
        {
          "output_type": "execute_result",
          "data": {
            "text/plain": [
              "pandas.core.frame.DataFrame"
            ]
          },
          "metadata": {},
          "execution_count": 18
        }
      ]
    },
    {
      "cell_type": "code",
      "source": [
        "# conversion to numpy array\n",
        "df = datatable_df.to_numpy()\n",
        "type(df)"
      ],
      "metadata": {
        "colab": {
          "base_uri": "https://localhost:8080/"
        },
        "id": "MXn1MVhgE6Up",
        "outputId": "e4043c41-6912-427d-b64c-17563a87da3b"
      },
      "execution_count": 19,
      "outputs": [
        {
          "output_type": "execute_result",
          "data": {
            "text/plain": [
              "numpy.ndarray"
            ]
          },
          "metadata": {},
          "execution_count": 19
        }
      ]
    },
    {
      "cell_type": "code",
      "source": [
        "@timeit\n",
        "def sort_operation_with_pandas(column):\n",
        "  sorted_df = pandas_df.sort_values(by = column)\n",
        "  return sorted_df\n",
        "\n",
        "pandas_df_sorted = sort_operation_with_pandas(\"year\")"
      ],
      "metadata": {
        "colab": {
          "base_uri": "https://localhost:8080/"
        },
        "id": "QtBI8IuUFSmL",
        "outputId": "c7647095-6620-461f-9bf0-ecd8fdf001b3"
      },
      "execution_count": 22,
      "outputs": [
        {
          "output_type": "stream",
          "name": "stdout",
          "text": [
            "func:'sort_operation_with_pandas' args:[('year',), {}] took: 0.6338 sec\n"
          ]
        }
      ]
    },
    {
      "cell_type": "code",
      "source": [
        "@timeit\n",
        "def sort_operation_with_datatable(column):\n",
        "  sorted_df = datatable_df.sort(column)\n",
        "  return sorted_df\n",
        "\n",
        "datatable_df_sorted = sort_operation_with_datatable(\"year\")"
      ],
      "metadata": {
        "colab": {
          "base_uri": "https://localhost:8080/"
        },
        "id": "Z04xXSjBGSzr",
        "outputId": "01da03fc-dcfa-4df1-8800-19120a5622c1"
      },
      "execution_count": 24,
      "outputs": [
        {
          "output_type": "stream",
          "name": "stdout",
          "text": [
            "func:'sort_operation_with_datatable' args:[('year',), {}] took: 0.0222 sec\n"
          ]
        }
      ]
    },
    {
      "cell_type": "code",
      "source": [
        "@timeit\n",
        "def mean_value_with_pandas(column):\n",
        "  mean_df = pandas_df[column].mean()\n",
        "  return mean_df\n",
        "\n",
        "pandas_df_mean = mean_value_with_pandas(\"timbre_avg_1\")"
      ],
      "metadata": {
        "colab": {
          "base_uri": "https://localhost:8080/"
        },
        "id": "ia21VwmJHmjE",
        "outputId": "d7564f1a-e188-4905-f829-2a9e981afdf3"
      },
      "execution_count": 31,
      "outputs": [
        {
          "output_type": "stream",
          "name": "stdout",
          "text": [
            "func:'mean_value_with_pandas' args:[('timbre_avg_1',), {}] took: 0.0061 sec\n"
          ]
        }
      ]
    },
    {
      "cell_type": "code",
      "source": [
        "@timeit\n",
        "def mean_value_with_datatable(column):\n",
        "  mean_df = datatable_df[column].mean()\n",
        "  return mean_df\n",
        "\n",
        "datatable_df_mean = mean_value_with_datatable(\"timbre_avg_1\")"
      ],
      "metadata": {
        "colab": {
          "base_uri": "https://localhost:8080/"
        },
        "id": "FGhFLfDKHB10",
        "outputId": "91dbb160-f471-4470-aced-24bc4599cfab"
      },
      "execution_count": 32,
      "outputs": [
        {
          "output_type": "stream",
          "name": "stdout",
          "text": [
            "func:'mean_value_with_datatable' args:[('timbre_avg_1',), {}] took: 0.0118 sec\n"
          ]
        }
      ]
    },
    {
      "cell_type": "code",
      "source": [
        "# performing statistics operations\n",
        "datatable_df['timbre_avg_0'].sum()"
      ],
      "metadata": {
        "colab": {
          "base_uri": "https://localhost:8080/",
          "height": 100
        },
        "id": "jJ4STAj2H_4-",
        "outputId": "71c9f56c-4839-44fd-b910-f4fc7957b3c1"
      },
      "execution_count": 40,
      "outputs": [
        {
          "output_type": "execute_result",
          "data": {
            "text/plain": [
              "<Frame#7f8816c7a780 1x1>"
            ],
            "text/html": [
              "<div class='datatable'>\n",
              "  <table class='frame'>\n",
              "  <thead>\n",
              "    <tr class='colnames'><td class='row_index'></td><th>timbre_avg_0</th></tr>\n",
              "    <tr class='coltypes'><td class='row_index'></td><td class='float' title='float64'>&#x25AA;&#x25AA;&#x25AA;&#x25AA;&#x25AA;&#x25AA;&#x25AA;&#x25AA;</td></tr>\n",
              "  </thead>\n",
              "  <tbody>\n",
              "    <tr><td class='row_index'>0</td><td>2.23593e+07</td></tr>\n",
              "  </tbody>\n",
              "  </table>\n",
              "  <div class='footer'>\n",
              "    <div class='frame_dimensions'>1 row &times; 1 column</div>\n",
              "  </div>\n",
              "</div>\n"
            ]
          },
          "metadata": {},
          "execution_count": 40
        }
      ]
    },
    {
      "cell_type": "code",
      "source": [
        "# unique items in column\n",
        "datatable_df['year'].nunique()"
      ],
      "metadata": {
        "colab": {
          "base_uri": "https://localhost:8080/",
          "height": 100
        },
        "id": "ql7V9mF_OWrZ",
        "outputId": "9cc2e39c-52c2-4f0c-d6d1-51a9b30c94c5"
      },
      "execution_count": 39,
      "outputs": [
        {
          "output_type": "execute_result",
          "data": {
            "text/plain": [
              "<Frame#7f8816c7aba0 1x1>"
            ],
            "text/html": [
              "<div class='datatable'>\n",
              "  <table class='frame'>\n",
              "  <thead>\n",
              "    <tr class='colnames'><td class='row_index'></td><th>year</th></tr>\n",
              "    <tr class='coltypes'><td class='row_index'></td><td class='int' title='int64'>&#x25AA;&#x25AA;&#x25AA;&#x25AA;&#x25AA;&#x25AA;&#x25AA;&#x25AA;</td></tr>\n",
              "  </thead>\n",
              "  <tbody>\n",
              "    <tr><td class='row_index'>0</td><td>89</td></tr>\n",
              "  </tbody>\n",
              "  </table>\n",
              "  <div class='footer'>\n",
              "    <div class='frame_dimensions'>1 row &times; 1 column</div>\n",
              "  </div>\n",
              "</div>\n"
            ]
          },
          "metadata": {},
          "execution_count": 39
        }
      ]
    },
    {
      "cell_type": "code",
      "source": [
        "# standard deviation for a column\n",
        "datatable_df['timbre_avg_1'].sd()       "
      ],
      "metadata": {
        "colab": {
          "base_uri": "https://localhost:8080/",
          "height": 100
        },
        "id": "u1Y2dtdcOie-",
        "outputId": "99d239aa-c65c-46c9-a17b-49524a0f6503"
      },
      "execution_count": 43,
      "outputs": [
        {
          "output_type": "execute_result",
          "data": {
            "text/plain": [
              "<Frame#7f8816c3fc00 1x1>"
            ],
            "text/html": [
              "<div class='datatable'>\n",
              "  <table class='frame'>\n",
              "  <thead>\n",
              "    <tr class='colnames'><td class='row_index'></td><th>timbre_avg_1</th></tr>\n",
              "    <tr class='coltypes'><td class='row_index'></td><td class='float' title='float64'>&#x25AA;&#x25AA;&#x25AA;&#x25AA;&#x25AA;&#x25AA;&#x25AA;&#x25AA;</td></tr>\n",
              "  </thead>\n",
              "  <tbody>\n",
              "    <tr><td class='row_index'>0</td><td>51.5804</td></tr>\n",
              "  </tbody>\n",
              "  </table>\n",
              "  <div class='footer'>\n",
              "    <div class='frame_dimensions'>1 row &times; 1 column</div>\n",
              "  </div>\n",
              "</div>\n"
            ]
          },
          "metadata": {},
          "execution_count": 43
        }
      ]
    },
    {
      "cell_type": "code",
      "source": [
        "# max value in column\n",
        "datatable_df['year'].max()"
      ],
      "metadata": {
        "colab": {
          "base_uri": "https://localhost:8080/",
          "height": 100
        },
        "id": "XOWmNiwGOzfb",
        "outputId": "4206b752-df5f-40f1-e671-b00beb64859d"
      },
      "execution_count": 44,
      "outputs": [
        {
          "output_type": "execute_result",
          "data": {
            "text/plain": [
              "<Frame#7f8816c7a810 1x1>"
            ],
            "text/html": [
              "<div class='datatable'>\n",
              "  <table class='frame'>\n",
              "  <thead>\n",
              "    <tr class='colnames'><td class='row_index'></td><th>year</th></tr>\n",
              "    <tr class='coltypes'><td class='row_index'></td><td class='int' title='int32'>&#x25AA;&#x25AA;&#x25AA;&#x25AA;</td></tr>\n",
              "  </thead>\n",
              "  <tbody>\n",
              "    <tr><td class='row_index'>0</td><td>2011</td></tr>\n",
              "  </tbody>\n",
              "  </table>\n",
              "  <div class='footer'>\n",
              "    <div class='frame_dimensions'>1 row &times; 1 column</div>\n",
              "  </div>\n",
              "</div>\n"
            ]
          },
          "metadata": {},
          "execution_count": 44
        }
      ]
    },
    {
      "cell_type": "code",
      "source": [
        "# min value in column\n",
        "datatable_df['year'].min()     "
      ],
      "metadata": {
        "colab": {
          "base_uri": "https://localhost:8080/",
          "height": 100
        },
        "id": "jEmSXcMEPFpQ",
        "outputId": "8d8fbacb-41e3-48d0-d0f5-5f9add580252"
      },
      "execution_count": 47,
      "outputs": [
        {
          "output_type": "execute_result",
          "data": {
            "text/plain": [
              "<Frame#7f8816c7af30 1x1>"
            ],
            "text/html": [
              "<div class='datatable'>\n",
              "  <table class='frame'>\n",
              "  <thead>\n",
              "    <tr class='colnames'><td class='row_index'></td><th>year</th></tr>\n",
              "    <tr class='coltypes'><td class='row_index'></td><td class='int' title='int32'>&#x25AA;&#x25AA;&#x25AA;&#x25AA;</td></tr>\n",
              "  </thead>\n",
              "  <tbody>\n",
              "    <tr><td class='row_index'>0</td><td>1922</td></tr>\n",
              "  </tbody>\n",
              "  </table>\n",
              "  <div class='footer'>\n",
              "    <div class='frame_dimensions'>1 row &times; 1 column</div>\n",
              "  </div>\n",
              "</div>\n"
            ]
          },
          "metadata": {},
          "execution_count": 47
        }
      ]
    },
    {
      "cell_type": "code",
      "source": [
        "# most occuring value\n",
        "datatable_df['year'].mode()     "
      ],
      "metadata": {
        "colab": {
          "base_uri": "https://localhost:8080/",
          "height": 100
        },
        "id": "iIcMeTebO9EF",
        "outputId": "dd9c8015-8734-408a-8c48-2a83cd5f4b06"
      },
      "execution_count": 45,
      "outputs": [
        {
          "output_type": "execute_result",
          "data": {
            "text/plain": [
              "<Frame#7f8816c7ad20 1x1>"
            ],
            "text/html": [
              "<div class='datatable'>\n",
              "  <table class='frame'>\n",
              "  <thead>\n",
              "    <tr class='colnames'><td class='row_index'></td><th>year</th></tr>\n",
              "    <tr class='coltypes'><td class='row_index'></td><td class='int' title='int32'>&#x25AA;&#x25AA;&#x25AA;&#x25AA;</td></tr>\n",
              "  </thead>\n",
              "  <tbody>\n",
              "    <tr><td class='row_index'>0</td><td>2007</td></tr>\n",
              "  </tbody>\n",
              "  </table>\n",
              "  <div class='footer'>\n",
              "    <div class='frame_dimensions'>1 row &times; 1 column</div>\n",
              "  </div>\n",
              "</div>\n"
            ]
          },
          "metadata": {},
          "execution_count": 45
        }
      ]
    },
    {
      "cell_type": "code",
      "source": [
        "# modal frequency for every column\n",
        "datatable_df.nmodal()     "
      ],
      "metadata": {
        "colab": {
          "base_uri": "https://localhost:8080/",
          "height": 100
        },
        "id": "OZNj7y5qPIIT",
        "outputId": "0c7a54a2-d686-4fa4-e8ad-59594f833a8d"
      },
      "execution_count": 61,
      "outputs": [
        {
          "output_type": "execute_result",
          "data": {
            "text/plain": [
              "<Frame#7f8816cc7c60 1x91>"
            ],
            "text/html": [
              "<div class='datatable'>\n",
              "  <table class='frame'>\n",
              "  <thead>\n",
              "    <tr class='colnames'><td class='row_index'></td><th>year</th><th>timbre_avg_0</th><th>timbre_avg_1</th><th>timbre_avg_2</th><th>timbre_avg_3</th><th>timbre_avg_4</th><th>timbre_avg_5</th><th>timbre_avg_6</th><th>timbre_avg_7</th><th>timbre_avg_8</th><th class='vellipsis'>&hellip;</th><th>timbre_cov_73</th><th>timbre_cov_74</th><th>timbre_cov_75</th><th>timbre_cov_76</th><th>timbre_cov_77</th></tr>\n",
              "    <tr class='coltypes'><td class='row_index'></td><td class='int' title='int64'>&#x25AA;&#x25AA;&#x25AA;&#x25AA;&#x25AA;&#x25AA;&#x25AA;&#x25AA;</td><td class='int' title='int64'>&#x25AA;&#x25AA;&#x25AA;&#x25AA;&#x25AA;&#x25AA;&#x25AA;&#x25AA;</td><td class='int' title='int64'>&#x25AA;&#x25AA;&#x25AA;&#x25AA;&#x25AA;&#x25AA;&#x25AA;&#x25AA;</td><td class='int' title='int64'>&#x25AA;&#x25AA;&#x25AA;&#x25AA;&#x25AA;&#x25AA;&#x25AA;&#x25AA;</td><td class='int' title='int64'>&#x25AA;&#x25AA;&#x25AA;&#x25AA;&#x25AA;&#x25AA;&#x25AA;&#x25AA;</td><td class='int' title='int64'>&#x25AA;&#x25AA;&#x25AA;&#x25AA;&#x25AA;&#x25AA;&#x25AA;&#x25AA;</td><td class='int' title='int64'>&#x25AA;&#x25AA;&#x25AA;&#x25AA;&#x25AA;&#x25AA;&#x25AA;&#x25AA;</td><td class='int' title='int64'>&#x25AA;&#x25AA;&#x25AA;&#x25AA;&#x25AA;&#x25AA;&#x25AA;&#x25AA;</td><td class='int' title='int64'>&#x25AA;&#x25AA;&#x25AA;&#x25AA;&#x25AA;&#x25AA;&#x25AA;&#x25AA;</td><td class='int' title='int64'>&#x25AA;&#x25AA;&#x25AA;&#x25AA;&#x25AA;&#x25AA;&#x25AA;&#x25AA;</td><td></td><td class='int' title='int64'>&#x25AA;&#x25AA;&#x25AA;&#x25AA;&#x25AA;&#x25AA;&#x25AA;&#x25AA;</td><td class='int' title='int64'>&#x25AA;&#x25AA;&#x25AA;&#x25AA;&#x25AA;&#x25AA;&#x25AA;&#x25AA;</td><td class='int' title='int64'>&#x25AA;&#x25AA;&#x25AA;&#x25AA;&#x25AA;&#x25AA;&#x25AA;&#x25AA;</td><td class='int' title='int64'>&#x25AA;&#x25AA;&#x25AA;&#x25AA;&#x25AA;&#x25AA;&#x25AA;&#x25AA;</td><td class='int' title='int64'>&#x25AA;&#x25AA;&#x25AA;&#x25AA;&#x25AA;&#x25AA;&#x25AA;&#x25AA;</td></tr>\n",
              "  </thead>\n",
              "  <tbody>\n",
              "    <tr><td class='row_index'>0</td><td>39404</td><td>6</td><td>3</td><td>4</td><td>6</td><td>4</td><td>5</td><td>4</td><td>5</td><td>5</td><td class=vellipsis>&hellip;</td><td>3</td><td>3</td><td>5</td><td>3</td><td>4</td></tr>\n",
              "  </tbody>\n",
              "  </table>\n",
              "  <div class='footer'>\n",
              "    <div class='frame_dimensions'>1 row &times; 91 columns</div>\n",
              "  </div>\n",
              "</div>\n"
            ]
          },
          "metadata": {},
          "execution_count": 61
        }
      ]
    },
    {
      "cell_type": "code",
      "source": [
        "# mean of column\n",
        "int(datatable_df['year'].mean().to_numpy()[0])"
      ],
      "metadata": {
        "colab": {
          "base_uri": "https://localhost:8080/"
        },
        "id": "xCJ0FMfZPKo0",
        "outputId": "60cdcfca-70f2-4e1d-bd0a-e4afd9ea6a94"
      },
      "execution_count": 59,
      "outputs": [
        {
          "output_type": "execute_result",
          "data": {
            "text/plain": [
              "1998"
            ]
          },
          "metadata": {},
          "execution_count": 59
        }
      ]
    },
    {
      "cell_type": "code",
      "source": [
        "# Saving to csv files\n",
        "datatable_df.to_csv(\"out.csv\")"
      ],
      "metadata": {
        "id": "-PN2NG2CPBIN"
      },
      "execution_count": 60,
      "outputs": []
    },
    {
      "cell_type": "code",
      "source": [
        ""
      ],
      "metadata": {
        "id": "-ZAQaSrrQlSu"
      },
      "execution_count": null,
      "outputs": []
    }
  ]
}